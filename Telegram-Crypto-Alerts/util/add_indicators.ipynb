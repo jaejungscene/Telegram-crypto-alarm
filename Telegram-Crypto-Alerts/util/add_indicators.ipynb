{
 "cells": [
  {
   "cell_type": "code",
   "execution_count": 2,
   "metadata": {},
   "outputs": [],
   "source": [
    "import os\n",
    "import sys\n",
    "sys.path.insert(1, os.path.join(sys.path[0], '..'))\n",
    "\n",
    "from bot.indicators import TADatabaseClient"
   ]
  },
  {
   "cell_type": "code",
   "execution_count": 3,
   "metadata": {},
   "outputs": [],
   "source": [
    "db = TADatabaseClient()"
   ]
  },
  {
   "cell_type": "code",
   "execution_count": 10,
   "metadata": {},
   "outputs": [
    {
     "name": "stdout",
     "output_type": "stream",
     "text": [
      "Bollinger Bands (BBANDS) indicator added to TA database.\n"
     ]
    }
   ],
   "source": [
    "# BBANDS:\n",
    "db.add_indicator(indicator_id=\"BBANDS\", name=\"Bollinger Bands\", \n",
    "                 endpoint=\"https://api.taapi.io/bbands2?secret={api_key}&exchange=binance\",\n",
    "                 reference_url=\"https://taapi.io/indicators/bollinger-bands-another-implementation/\",\n",
    "                 params=[(\"period\", \"The period length to consider in the data set\", 20),\n",
    "                         (\"stddev\", \"Standard deviation value of the price\", 2)],\n",
    "                 output=[\"valueUpperBand\", \"valueMiddleBand\", \"valueLowerBand\"])"
   ]
  },
  {
   "cell_type": "code",
   "execution_count": 11,
   "metadata": {},
   "outputs": [
    {
     "name": "stdout",
     "output_type": "stream",
     "text": [
      "Relative Strength Index (RSI) indicator added to TA database.\n"
     ]
    }
   ],
   "source": [
    "# RSI:\n",
    "db.add_indicator(indicator_id=\"RSI\", name=\"Relative Strength Index\", \n",
    "                 endpoint=\"https://api.taapi.io/rsi?secret={api_key}&exchange=binance\",\n",
    "                 reference_url=\"https://taapi.io/indicators/relative-strength-index-rsi/\",\n",
    "                 params=[(\"period\", \"Adjust the RSI length- number of candles used to calculate RSI\", 14)],\n",
    "                 output=[\"value\"])"
   ]
  },
  {
   "cell_type": "code",
   "execution_count": 12,
   "metadata": {},
   "outputs": [
    {
     "name": "stdout",
     "output_type": "stream",
     "text": [
      "Simple Moving Average (SMA) indicator added to TA database.\n"
     ]
    }
   ],
   "source": [
    "# SMA:\n",
    "db.add_indicator(indicator_id=\"SMA\", name=\"Simple Moving Average\", \n",
    "                 endpoint=\"https://api.taapi.io/sma?secret={api_key}&exchange=binance\",\n",
    "                 reference_url=\"https://taapi.io/indicators/simple-moving-average/\",\n",
    "                 params=[(\"period\", \"Length / period of the SMA. It sets the number of candles used in the SMA calculation (Default = 30)\", 30)],\n",
    "                 output=[\"value\"])"
   ]
  },
  {
   "cell_type": "code",
   "execution_count": 13,
   "metadata": {},
   "outputs": [
    {
     "name": "stdout",
     "output_type": "stream",
     "text": [
      "Exponential Moving Average (EMA) indicator added to TA database.\n"
     ]
    }
   ],
   "source": [
    "# EMA:\n",
    "db.add_indicator(indicator_id=\"EMA\", name=\"Exponential Moving Average\", \n",
    "                 endpoint=\"https://api.taapi.io/ema?secret={api_key}&exchange=binance\",\n",
    "                 reference_url=\"https://taapi.io/indicators/exponential-moving-average/\",\n",
    "                 params=[(\"period\", \"Length / period of the EMA. It sets the number of candles used in the EMA calculation\", 30)],\n",
    "                 output=[\"value\"])"
   ]
  },
  {
   "cell_type": "code",
   "execution_count": 14,
   "metadata": {},
   "outputs": [
    {
     "name": "stdout",
     "output_type": "stream",
     "text": [
      "Moving Average (MA) indicator added to TA database.\n"
     ]
    }
   ],
   "source": [
    "# MA:\n",
    "db.add_indicator(indicator_id=\"MA\", name=\"Moving Average\", \n",
    "                 endpoint=\"https://api.taapi.io/ma?secret={api_key}&exchange=binance\",\n",
    "                 reference_url=\"https://taapi.io/indicators/moving-average/\",\n",
    "                 params=[(\"period\", \"Length / period of the moving average. It sets the number of candles used in the MA calculation\", 30)],\n",
    "                 output=[\"value\"])"
   ]
  },
  {
   "cell_type": "code",
   "execution_count": 4,
   "metadata": {},
   "outputs": [
    {
     "name": "stdout",
     "output_type": "stream",
     "text": [
      "Moving Average Convergence Divergence (MACD) indicator added to TA database.\n"
     ]
    }
   ],
   "source": [
    "# MACD:\n",
    "db.add_indicator(indicator_id=\"MACD\", name=\"Moving Average Convergence Divergence\",\n",
    "                 endpoint=\"https://api.taapi.io/macd?secret={api_key}&exchange=binance\",\n",
    "                 reference_url=\"https://taapi.io/indicators/macd/\",\n",
    "                 params=[\n",
    "                     (\"optInFastPeriod\", \"Fast period length\", 12),\n",
    "                     (\"opInSlowPeriod\", \"Slow period length\", 26),\n",
    "                     (\"optInSignalPeriod\", \"Signal period length\", 9)\n",
    "                     ],\n",
    "                 output=[\"valueMACD\", \"valueMACDSignal\", \"valueMACDHist\"])"
   ]
  },
  {
   "cell_type": "code",
   "execution_count": null,
   "metadata": {},
   "outputs": [],
   "source": []
  }
 ],
 "metadata": {
  "kernelspec": {
   "display_name": "Python 3",
   "language": "python",
   "name": "python3"
  },
  "language_info": {
   "codemirror_mode": {
    "name": "ipython",
    "version": 3
   },
   "file_extension": ".py",
   "mimetype": "text/x-python",
   "name": "python",
   "nbconvert_exporter": "python",
   "pygments_lexer": "ipython3",
   "version": "3.9.12"
  },
  "orig_nbformat": 4,
  "vscode": {
   "interpreter": {
    "hash": "783ba5860f04b64b31a9cb1bf7b8722c5febb0d0e5a1e5052079e589e4c846a5"
   }
  }
 },
 "nbformat": 4,
 "nbformat_minor": 2
}
